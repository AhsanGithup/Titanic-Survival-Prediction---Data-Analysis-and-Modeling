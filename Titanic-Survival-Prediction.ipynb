{
 "cells": [
  {
   "cell_type": "code",
   "execution_count": 1,
   "id": "6639a2c5",
   "metadata": {},
   "outputs": [],
   "source": [
    "import pandas as pd\n",
    "import matplotlib.pyplot as plt\n",
    "import seaborn as sns\n",
    "import numpy as np"
   ]
  },
  {
   "cell_type": "code",
   "execution_count": 2,
   "id": "7d1ff3f0",
   "metadata": {},
   "outputs": [],
   "source": [
    "data=pd.read_csv(\"tested.csv\")"
   ]
  },
  {
   "cell_type": "markdown",
   "id": "7e0713be",
   "metadata": {},
   "source": [
    "# DATA PREPROCESSING."
   ]
  },
  {
   "cell_type": "markdown",
   "id": "ba099871",
   "metadata": {},
   "source": [
    ".Load the data using the pandas read funstion."
   ]
  },
  {
   "cell_type": "markdown",
   "id": "d15b875b",
   "metadata": {},
   "source": [
    ".Print the dataset information.\n"
   ]
  },
  {
   "cell_type": "markdown",
   "id": "2828e059",
   "metadata": {},
   "source": [
    ".Print the stastics about the using describe function."
   ]
  },
  {
   "cell_type": "markdown",
   "id": "a3189335",
   "metadata": {},
   "source": [
    ".Print the stastics about the using describe function.\n"
   ]
  },
  {
   "cell_type": "markdown",
   "id": "da0ec203",
   "metadata": {},
   "source": [
    ".Visualize the correlation map to understand the correlation with the columns.\n"
   ]
  },
  {
   "cell_type": "markdown",
   "id": "615230f7",
   "metadata": {},
   "source": [
    ".check for null values, and if the data contains any, remove them.\n"
   ]
  },
  {
   "cell_type": "markdown",
   "id": "47bd91b2",
   "metadata": {},
   "source": [
    ".Additionall, inspect for duplicate value and remove them if pesent."
   ]
  },
  {
   "cell_type": "code",
   "execution_count": 3,
   "id": "cf7eb79f",
   "metadata": {},
   "outputs": [
    {
     "data": {
      "text/html": [
       "<div>\n",
       "<style scoped>\n",
       "    .dataframe tbody tr th:only-of-type {\n",
       "        vertical-align: middle;\n",
       "    }\n",
       "\n",
       "    .dataframe tbody tr th {\n",
       "        vertical-align: top;\n",
       "    }\n",
       "\n",
       "    .dataframe thead th {\n",
       "        text-align: right;\n",
       "    }\n",
       "</style>\n",
       "<table border=\"1\" class=\"dataframe\">\n",
       "  <thead>\n",
       "    <tr style=\"text-align: right;\">\n",
       "      <th></th>\n",
       "      <th>PassengerId</th>\n",
       "      <th>Survived</th>\n",
       "      <th>Pclass</th>\n",
       "      <th>Name</th>\n",
       "      <th>Sex</th>\n",
       "      <th>Age</th>\n",
       "      <th>SibSp</th>\n",
       "      <th>Parch</th>\n",
       "      <th>Ticket</th>\n",
       "      <th>Fare</th>\n",
       "      <th>Cabin</th>\n",
       "      <th>Embarked</th>\n",
       "    </tr>\n",
       "  </thead>\n",
       "  <tbody>\n",
       "    <tr>\n",
       "      <th>0</th>\n",
       "      <td>892</td>\n",
       "      <td>0</td>\n",
       "      <td>3</td>\n",
       "      <td>Kelly, Mr. James</td>\n",
       "      <td>male</td>\n",
       "      <td>34.5</td>\n",
       "      <td>0</td>\n",
       "      <td>0</td>\n",
       "      <td>330911</td>\n",
       "      <td>7.8292</td>\n",
       "      <td>NaN</td>\n",
       "      <td>Q</td>\n",
       "    </tr>\n",
       "    <tr>\n",
       "      <th>1</th>\n",
       "      <td>893</td>\n",
       "      <td>1</td>\n",
       "      <td>3</td>\n",
       "      <td>Wilkes, Mrs. James (Ellen Needs)</td>\n",
       "      <td>female</td>\n",
       "      <td>47.0</td>\n",
       "      <td>1</td>\n",
       "      <td>0</td>\n",
       "      <td>363272</td>\n",
       "      <td>7.0000</td>\n",
       "      <td>NaN</td>\n",
       "      <td>S</td>\n",
       "    </tr>\n",
       "    <tr>\n",
       "      <th>2</th>\n",
       "      <td>894</td>\n",
       "      <td>0</td>\n",
       "      <td>2</td>\n",
       "      <td>Myles, Mr. Thomas Francis</td>\n",
       "      <td>male</td>\n",
       "      <td>62.0</td>\n",
       "      <td>0</td>\n",
       "      <td>0</td>\n",
       "      <td>240276</td>\n",
       "      <td>9.6875</td>\n",
       "      <td>NaN</td>\n",
       "      <td>Q</td>\n",
       "    </tr>\n",
       "    <tr>\n",
       "      <th>3</th>\n",
       "      <td>895</td>\n",
       "      <td>0</td>\n",
       "      <td>3</td>\n",
       "      <td>Wirz, Mr. Albert</td>\n",
       "      <td>male</td>\n",
       "      <td>27.0</td>\n",
       "      <td>0</td>\n",
       "      <td>0</td>\n",
       "      <td>315154</td>\n",
       "      <td>8.6625</td>\n",
       "      <td>NaN</td>\n",
       "      <td>S</td>\n",
       "    </tr>\n",
       "    <tr>\n",
       "      <th>4</th>\n",
       "      <td>896</td>\n",
       "      <td>1</td>\n",
       "      <td>3</td>\n",
       "      <td>Hirvonen, Mrs. Alexander (Helga E Lindqvist)</td>\n",
       "      <td>female</td>\n",
       "      <td>22.0</td>\n",
       "      <td>1</td>\n",
       "      <td>1</td>\n",
       "      <td>3101298</td>\n",
       "      <td>12.2875</td>\n",
       "      <td>NaN</td>\n",
       "      <td>S</td>\n",
       "    </tr>\n",
       "  </tbody>\n",
       "</table>\n",
       "</div>"
      ],
      "text/plain": [
       "   PassengerId  Survived  Pclass  \\\n",
       "0          892         0       3   \n",
       "1          893         1       3   \n",
       "2          894         0       2   \n",
       "3          895         0       3   \n",
       "4          896         1       3   \n",
       "\n",
       "                                           Name     Sex   Age  SibSp  Parch  \\\n",
       "0                              Kelly, Mr. James    male  34.5      0      0   \n",
       "1              Wilkes, Mrs. James (Ellen Needs)  female  47.0      1      0   \n",
       "2                     Myles, Mr. Thomas Francis    male  62.0      0      0   \n",
       "3                              Wirz, Mr. Albert    male  27.0      0      0   \n",
       "4  Hirvonen, Mrs. Alexander (Helga E Lindqvist)  female  22.0      1      1   \n",
       "\n",
       "    Ticket     Fare Cabin Embarked  \n",
       "0   330911   7.8292   NaN        Q  \n",
       "1   363272   7.0000   NaN        S  \n",
       "2   240276   9.6875   NaN        Q  \n",
       "3   315154   8.6625   NaN        S  \n",
       "4  3101298  12.2875   NaN        S  "
      ]
     },
     "execution_count": 3,
     "metadata": {},
     "output_type": "execute_result"
    }
   ],
   "source": [
    "data.head()"
   ]
  },
  {
   "cell_type": "code",
   "execution_count": 4,
   "id": "417f4b04",
   "metadata": {},
   "outputs": [
    {
     "data": {
      "text/plain": [
       "(418, 12)"
      ]
     },
     "execution_count": 4,
     "metadata": {},
     "output_type": "execute_result"
    }
   ],
   "source": [
    "data.shape"
   ]
  },
  {
   "cell_type": "code",
   "execution_count": 5,
   "id": "9c26556e",
   "metadata": {},
   "outputs": [
    {
     "name": "stdout",
     "output_type": "stream",
     "text": [
      "<class 'pandas.core.frame.DataFrame'>\n",
      "RangeIndex: 418 entries, 0 to 417\n",
      "Data columns (total 12 columns):\n",
      " #   Column       Non-Null Count  Dtype  \n",
      "---  ------       --------------  -----  \n",
      " 0   PassengerId  418 non-null    int64  \n",
      " 1   Survived     418 non-null    int64  \n",
      " 2   Pclass       418 non-null    int64  \n",
      " 3   Name         418 non-null    object \n",
      " 4   Sex          418 non-null    object \n",
      " 5   Age          332 non-null    float64\n",
      " 6   SibSp        418 non-null    int64  \n",
      " 7   Parch        418 non-null    int64  \n",
      " 8   Ticket       418 non-null    object \n",
      " 9   Fare         417 non-null    float64\n",
      " 10  Cabin        91 non-null     object \n",
      " 11  Embarked     418 non-null    object \n",
      "dtypes: float64(2), int64(5), object(5)\n",
      "memory usage: 39.3+ KB\n"
     ]
    }
   ],
   "source": [
    "data.info()"
   ]
  },
  {
   "cell_type": "code",
   "execution_count": 6,
   "id": "dce79692",
   "metadata": {},
   "outputs": [
    {
     "data": {
      "text/html": [
       "<style type=\"text/css\">\n",
       "#T_076b1_row0_col0 {\n",
       "  background-color: #fd8d3c;\n",
       "  color: #f1f1f1;\n",
       "}\n",
       "#T_076b1_row0_col1, #T_076b1_row0_col2, #T_076b1_row0_col3, #T_076b1_row0_col4, #T_076b1_row0_col5, #T_076b1_row7_col0, #T_076b1_row7_col6 {\n",
       "  background-color: #d9d9d9;\n",
       "  color: #000000;\n",
       "}\n",
       "#T_076b1_row0_col6, #T_076b1_row1_col0, #T_076b1_row5_col0 {\n",
       "  background-color: #636363;\n",
       "  color: #f1f1f1;\n",
       "}\n",
       "#T_076b1_row1_col1, #T_076b1_row1_col2, #T_076b1_row1_col4, #T_076b1_row1_col5, #T_076b1_row2_col0, #T_076b1_row2_col1, #T_076b1_row2_col2, #T_076b1_row2_col3, #T_076b1_row2_col4, #T_076b1_row2_col5, #T_076b1_row3_col1, #T_076b1_row3_col2, #T_076b1_row3_col3, #T_076b1_row3_col4, #T_076b1_row3_col5, #T_076b1_row3_col6, #T_076b1_row4_col1, #T_076b1_row4_col2, #T_076b1_row4_col4, #T_076b1_row4_col5, #T_076b1_row4_col6, #T_076b1_row5_col1, #T_076b1_row5_col2, #T_076b1_row5_col4, #T_076b1_row5_col5, #T_076b1_row5_col6, #T_076b1_row6_col1, #T_076b1_row6_col2, #T_076b1_row6_col4, #T_076b1_row6_col5, #T_076b1_row7_col1, #T_076b1_row7_col2, #T_076b1_row7_col4, #T_076b1_row7_col5 {\n",
       "  background-color: #3182bd;\n",
       "  color: #f1f1f1;\n",
       "}\n",
       "#T_076b1_row1_col3, #T_076b1_row1_col6, #T_076b1_row4_col3, #T_076b1_row5_col3, #T_076b1_row6_col6 {\n",
       "  background-color: #6baed6;\n",
       "  color: #f1f1f1;\n",
       "}\n",
       "#T_076b1_row2_col6, #T_076b1_row6_col3 {\n",
       "  background-color: #9ecae1;\n",
       "  color: #000000;\n",
       "}\n",
       "#T_076b1_row3_col0 {\n",
       "  background-color: #756bb1;\n",
       "  color: #f1f1f1;\n",
       "}\n",
       "#T_076b1_row4_col0 {\n",
       "  background-color: #bcbddc;\n",
       "  color: #000000;\n",
       "}\n",
       "#T_076b1_row6_col0 {\n",
       "  background-color: #bdbdbd;\n",
       "  color: #000000;\n",
       "}\n",
       "#T_076b1_row7_col3 {\n",
       "  background-color: #e6550d;\n",
       "  color: #f1f1f1;\n",
       "}\n",
       "</style>\n",
       "<table id=\"T_076b1\">\n",
       "  <thead>\n",
       "    <tr>\n",
       "      <th class=\"blank level0\" >&nbsp;</th>\n",
       "      <th id=\"T_076b1_level0_col0\" class=\"col_heading level0 col0\" >PassengerId</th>\n",
       "      <th id=\"T_076b1_level0_col1\" class=\"col_heading level0 col1\" >Survived</th>\n",
       "      <th id=\"T_076b1_level0_col2\" class=\"col_heading level0 col2\" >Pclass</th>\n",
       "      <th id=\"T_076b1_level0_col3\" class=\"col_heading level0 col3\" >Age</th>\n",
       "      <th id=\"T_076b1_level0_col4\" class=\"col_heading level0 col4\" >SibSp</th>\n",
       "      <th id=\"T_076b1_level0_col5\" class=\"col_heading level0 col5\" >Parch</th>\n",
       "      <th id=\"T_076b1_level0_col6\" class=\"col_heading level0 col6\" >Fare</th>\n",
       "    </tr>\n",
       "  </thead>\n",
       "  <tbody>\n",
       "    <tr>\n",
       "      <th id=\"T_076b1_level0_row0\" class=\"row_heading level0 row0\" >count</th>\n",
       "      <td id=\"T_076b1_row0_col0\" class=\"data row0 col0\" >418.000000</td>\n",
       "      <td id=\"T_076b1_row0_col1\" class=\"data row0 col1\" >418.000000</td>\n",
       "      <td id=\"T_076b1_row0_col2\" class=\"data row0 col2\" >418.000000</td>\n",
       "      <td id=\"T_076b1_row0_col3\" class=\"data row0 col3\" >332.000000</td>\n",
       "      <td id=\"T_076b1_row0_col4\" class=\"data row0 col4\" >418.000000</td>\n",
       "      <td id=\"T_076b1_row0_col5\" class=\"data row0 col5\" >418.000000</td>\n",
       "      <td id=\"T_076b1_row0_col6\" class=\"data row0 col6\" >417.000000</td>\n",
       "    </tr>\n",
       "    <tr>\n",
       "      <th id=\"T_076b1_level0_row1\" class=\"row_heading level0 row1\" >mean</th>\n",
       "      <td id=\"T_076b1_row1_col0\" class=\"data row1 col0\" >1100.500000</td>\n",
       "      <td id=\"T_076b1_row1_col1\" class=\"data row1 col1\" >0.363636</td>\n",
       "      <td id=\"T_076b1_row1_col2\" class=\"data row1 col2\" >2.265550</td>\n",
       "      <td id=\"T_076b1_row1_col3\" class=\"data row1 col3\" >30.272590</td>\n",
       "      <td id=\"T_076b1_row1_col4\" class=\"data row1 col4\" >0.447368</td>\n",
       "      <td id=\"T_076b1_row1_col5\" class=\"data row1 col5\" >0.392344</td>\n",
       "      <td id=\"T_076b1_row1_col6\" class=\"data row1 col6\" >35.627188</td>\n",
       "    </tr>\n",
       "    <tr>\n",
       "      <th id=\"T_076b1_level0_row2\" class=\"row_heading level0 row2\" >std</th>\n",
       "      <td id=\"T_076b1_row2_col0\" class=\"data row2 col0\" >120.810458</td>\n",
       "      <td id=\"T_076b1_row2_col1\" class=\"data row2 col1\" >0.481622</td>\n",
       "      <td id=\"T_076b1_row2_col2\" class=\"data row2 col2\" >0.841838</td>\n",
       "      <td id=\"T_076b1_row2_col3\" class=\"data row2 col3\" >14.181209</td>\n",
       "      <td id=\"T_076b1_row2_col4\" class=\"data row2 col4\" >0.896760</td>\n",
       "      <td id=\"T_076b1_row2_col5\" class=\"data row2 col5\" >0.981429</td>\n",
       "      <td id=\"T_076b1_row2_col6\" class=\"data row2 col6\" >55.907576</td>\n",
       "    </tr>\n",
       "    <tr>\n",
       "      <th id=\"T_076b1_level0_row3\" class=\"row_heading level0 row3\" >min</th>\n",
       "      <td id=\"T_076b1_row3_col0\" class=\"data row3 col0\" >892.000000</td>\n",
       "      <td id=\"T_076b1_row3_col1\" class=\"data row3 col1\" >0.000000</td>\n",
       "      <td id=\"T_076b1_row3_col2\" class=\"data row3 col2\" >1.000000</td>\n",
       "      <td id=\"T_076b1_row3_col3\" class=\"data row3 col3\" >0.170000</td>\n",
       "      <td id=\"T_076b1_row3_col4\" class=\"data row3 col4\" >0.000000</td>\n",
       "      <td id=\"T_076b1_row3_col5\" class=\"data row3 col5\" >0.000000</td>\n",
       "      <td id=\"T_076b1_row3_col6\" class=\"data row3 col6\" >0.000000</td>\n",
       "    </tr>\n",
       "    <tr>\n",
       "      <th id=\"T_076b1_level0_row4\" class=\"row_heading level0 row4\" >25%</th>\n",
       "      <td id=\"T_076b1_row4_col0\" class=\"data row4 col0\" >996.250000</td>\n",
       "      <td id=\"T_076b1_row4_col1\" class=\"data row4 col1\" >0.000000</td>\n",
       "      <td id=\"T_076b1_row4_col2\" class=\"data row4 col2\" >1.000000</td>\n",
       "      <td id=\"T_076b1_row4_col3\" class=\"data row4 col3\" >21.000000</td>\n",
       "      <td id=\"T_076b1_row4_col4\" class=\"data row4 col4\" >0.000000</td>\n",
       "      <td id=\"T_076b1_row4_col5\" class=\"data row4 col5\" >0.000000</td>\n",
       "      <td id=\"T_076b1_row4_col6\" class=\"data row4 col6\" >7.895800</td>\n",
       "    </tr>\n",
       "    <tr>\n",
       "      <th id=\"T_076b1_level0_row5\" class=\"row_heading level0 row5\" >50%</th>\n",
       "      <td id=\"T_076b1_row5_col0\" class=\"data row5 col0\" >1100.500000</td>\n",
       "      <td id=\"T_076b1_row5_col1\" class=\"data row5 col1\" >0.000000</td>\n",
       "      <td id=\"T_076b1_row5_col2\" class=\"data row5 col2\" >3.000000</td>\n",
       "      <td id=\"T_076b1_row5_col3\" class=\"data row5 col3\" >27.000000</td>\n",
       "      <td id=\"T_076b1_row5_col4\" class=\"data row5 col4\" >0.000000</td>\n",
       "      <td id=\"T_076b1_row5_col5\" class=\"data row5 col5\" >0.000000</td>\n",
       "      <td id=\"T_076b1_row5_col6\" class=\"data row5 col6\" >14.454200</td>\n",
       "    </tr>\n",
       "    <tr>\n",
       "      <th id=\"T_076b1_level0_row6\" class=\"row_heading level0 row6\" >75%</th>\n",
       "      <td id=\"T_076b1_row6_col0\" class=\"data row6 col0\" >1204.750000</td>\n",
       "      <td id=\"T_076b1_row6_col1\" class=\"data row6 col1\" >1.000000</td>\n",
       "      <td id=\"T_076b1_row6_col2\" class=\"data row6 col2\" >3.000000</td>\n",
       "      <td id=\"T_076b1_row6_col3\" class=\"data row6 col3\" >39.000000</td>\n",
       "      <td id=\"T_076b1_row6_col4\" class=\"data row6 col4\" >1.000000</td>\n",
       "      <td id=\"T_076b1_row6_col5\" class=\"data row6 col5\" >0.000000</td>\n",
       "      <td id=\"T_076b1_row6_col6\" class=\"data row6 col6\" >31.500000</td>\n",
       "    </tr>\n",
       "    <tr>\n",
       "      <th id=\"T_076b1_level0_row7\" class=\"row_heading level0 row7\" >max</th>\n",
       "      <td id=\"T_076b1_row7_col0\" class=\"data row7 col0\" >1309.000000</td>\n",
       "      <td id=\"T_076b1_row7_col1\" class=\"data row7 col1\" >1.000000</td>\n",
       "      <td id=\"T_076b1_row7_col2\" class=\"data row7 col2\" >3.000000</td>\n",
       "      <td id=\"T_076b1_row7_col3\" class=\"data row7 col3\" >76.000000</td>\n",
       "      <td id=\"T_076b1_row7_col4\" class=\"data row7 col4\" >8.000000</td>\n",
       "      <td id=\"T_076b1_row7_col5\" class=\"data row7 col5\" >9.000000</td>\n",
       "      <td id=\"T_076b1_row7_col6\" class=\"data row7 col6\" >512.329200</td>\n",
       "    </tr>\n",
       "  </tbody>\n",
       "</table>\n"
      ],
      "text/plain": [
       "<pandas.io.formats.style.Styler at 0x7fcdd859f340>"
      ]
     },
     "execution_count": 6,
     "metadata": {},
     "output_type": "execute_result"
    }
   ],
   "source": [
    "data.describe().style.background_gradient(cmap=\"tab20c\")"
   ]
  },
  {
   "cell_type": "code",
   "execution_count": 7,
   "id": "6de60c00",
   "metadata": {},
   "outputs": [
    {
     "data": {
      "text/plain": [
       "<AxesSubplot:>"
      ]
     },
     "execution_count": 7,
     "metadata": {},
     "output_type": "execute_result"
    },
    {
     "data": {
      "image/png": "[encoded data removed]",
      "text/plain": [
       "<Figure size 432x288 with 2 Axes>"
      ]
     },
     "metadata": {
      "needs_background": "light"
     },
     "output_type": "display_data"
    }
   ],
   "source": [
    "sns.heatmap(data.corr())"
   ]
  },
  {
   "cell_type": "code",
   "execution_count": 8,
   "id": "cb9e730e",
   "metadata": {},
   "outputs": [
    {
     "name": "stdout",
     "output_type": "stream",
     "text": [
      "The dataset no duplicated values 0\n"
     ]
    }
   ],
   "source": [
    "data_dup=data.duplicated().sum()\n",
    "print(\"The dataset no duplicated values\",data_dup)"
   ]
  },
  {
   "cell_type": "code",
   "execution_count": 9,
   "id": "878c8c40",
   "metadata": {},
   "outputs": [
    {
     "data": {
      "text/plain": [
       "<AxesSubplot:>"
      ]
     },
     "execution_count": 9,
     "metadata": {},
     "output_type": "execute_result"
    },
    {
     "data": {
      "image/png": "[encoded data removed]",
      "text/plain": [
       "<Figure size 432x288 with 2 Axes>"
      ]
     },
     "metadata": {
      "needs_background": "light"
     },
     "output_type": "display_data"
    }
   ],
   "source": [
    "sns.heatmap(data.isnull())"
   ]
  },
  {
   "cell_type": "code",
   "execution_count": 10,
   "id": "61055522",
   "metadata": {},
   "outputs": [
    {
     "data": {
      "text/plain": [
       "PassengerId      0\n",
       "Survived         0\n",
       "Pclass           0\n",
       "Name             0\n",
       "Sex              0\n",
       "Age             86\n",
       "SibSp            0\n",
       "Parch            0\n",
       "Ticket           0\n",
       "Fare             1\n",
       "Cabin          327\n",
       "Embarked         0\n",
       "dtype: int64"
      ]
     },
     "execution_count": 10,
     "metadata": {},
     "output_type": "execute_result"
    }
   ],
   "source": [
    "data.isnull().sum()"
   ]
  },
  {
   "cell_type": "code",
   "execution_count": 11,
   "id": "e00f4a7d",
   "metadata": {},
   "outputs": [
    {
     "name": "stdout",
     "output_type": "stream",
     "text": [
      "78.22966507177034\n",
      "The dataset given the colums Cabin 78-79% null values very difficult the null values fill so drop the Cabin columns\n"
     ]
    }
   ],
   "source": [
    "data_cabin=data[\"Cabin\"].isnull().sum()/len(data[\"Cabin\"])*100\n",
    "print(data_cabin)\n",
    "print(\"The dataset given the colums Cabin 78-79% null values very difficult the null values fill so drop the Cabin columns\")"
   ]
  },
  {
   "cell_type": "code",
   "execution_count": 12,
   "id": "72edb64c",
   "metadata": {},
   "outputs": [],
   "source": [
    "data.drop([\"Cabin\"],axis=1,inplace=True)"
   ]
  },
  {
   "cell_type": "code",
   "execution_count": 13,
   "id": "c24c4986",
   "metadata": {},
   "outputs": [
    {
     "name": "stdout",
     "output_type": "stream",
     "text": [
      "0.23923444976076555\n",
      "The dataset given the columns 0.23% null values very easily the fill null values\n"
     ]
    }
   ],
   "source": [
    "data_fare=data[\"Fare\"].isnull().sum()/len(data[\"Fare\"])*100\n",
    "print(data_fare)\n",
    "print(\"The dataset given the columns 0.23% null values very easily the fill null values\")"
   ]
  },
  {
   "cell_type": "code",
   "execution_count": 14,
   "id": "85f34919",
   "metadata": {},
   "outputs": [
    {
     "name": "stdout",
     "output_type": "stream",
     "text": [
      "The Fare columns maximum outlier\n"
     ]
    },
    {
     "data": {
      "image/png": "[encoded data removed]",
      "text/plain": [
       "<Figure size 432x288 with 1 Axes>"
      ]
     },
     "metadata": {
      "needs_background": "light"
     },
     "output_type": "display_data"
    }
   ],
   "source": [
    "data[\"Fare\"].plot(kind=\"box\")\n",
    "print(\"The Fare columns maximum outlier\")"
   ]
  },
  {
   "cell_type": "code",
   "execution_count": 15,
   "id": "8e10a110",
   "metadata": {},
   "outputs": [
    {
     "name": "stdout",
     "output_type": "stream",
     "text": [
      "The Fare colums null values given Pclass is 3 so check the pclass 3 and find the mean or median Fare values\n"
     ]
    },
    {
     "data": {
      "text/html": [
       "<div>\n",
       "<style scoped>\n",
       "    .dataframe tbody tr th:only-of-type {\n",
       "        vertical-align: middle;\n",
       "    }\n",
       "\n",
       "    .dataframe tbody tr th {\n",
       "        vertical-align: top;\n",
       "    }\n",
       "\n",
       "    .dataframe thead th {\n",
       "        text-align: right;\n",
       "    }\n",
       "</style>\n",
       "<table border=\"1\" class=\"dataframe\">\n",
       "  <thead>\n",
       "    <tr style=\"text-align: right;\">\n",
       "      <th></th>\n",
       "      <th>PassengerId</th>\n",
       "      <th>Survived</th>\n",
       "      <th>Pclass</th>\n",
       "      <th>Name</th>\n",
       "      <th>Sex</th>\n",
       "      <th>Age</th>\n",
       "      <th>SibSp</th>\n",
       "      <th>Parch</th>\n",
       "      <th>Ticket</th>\n",
       "      <th>Fare</th>\n",
       "      <th>Embarked</th>\n",
       "    </tr>\n",
       "  </thead>\n",
       "  <tbody>\n",
       "    <tr>\n",
       "      <th>152</th>\n",
       "      <td>1044</td>\n",
       "      <td>0</td>\n",
       "      <td>3</td>\n",
       "      <td>Storey, Mr. Thomas</td>\n",
       "      <td>male</td>\n",
       "      <td>60.5</td>\n",
       "      <td>0</td>\n",
       "      <td>0</td>\n",
       "      <td>3701</td>\n",
       "      <td>NaN</td>\n",
       "      <td>S</td>\n",
       "    </tr>\n",
       "  </tbody>\n",
       "</table>\n",
       "</div>"
      ],
      "text/plain": [
       "     PassengerId  Survived  Pclass                Name   Sex   Age  SibSp  \\\n",
       "152         1044         0       3  Storey, Mr. Thomas  male  60.5      0   \n",
       "\n",
       "     Parch Ticket  Fare Embarked  \n",
       "152      0   3701   NaN        S  "
      ]
     },
     "execution_count": 15,
     "metadata": {},
     "output_type": "execute_result"
    }
   ],
   "source": [
    "print(\"The Fare colums null values given Pclass is 3 so check the pclass 3 and find the mean or median Fare values\")\n",
    "data[data[\"Fare\"].isnull()]"
   ]
  },
  {
   "cell_type": "code",
   "execution_count": 16,
   "id": "26a33b52",
   "metadata": {},
   "outputs": [
    {
     "name": "stdout",
     "output_type": "stream",
     "text": [
      "The pclass 3 given colunms fare values the maximum outlier so help the median fill the null values the fare columns\n"
     ]
    },
    {
     "data": {
      "text/plain": [
       "7.8958"
      ]
     },
     "execution_count": 16,
     "metadata": {},
     "output_type": "execute_result"
    },
    {
     "data": {
      "image/png": "[encoded data removed]",
      "text/plain": [
       "<Figure size 432x288 with 1 Axes>"
      ]
     },
     "metadata": {
      "needs_background": "light"
     },
     "output_type": "display_data"
    }
   ],
   "source": [
    "print(\"The pclass 3 given colunms fare values the maximum outlier so help the median fill the null values the fare columns\")\n",
    "data.groupby(\"Pclass\").get_group(3)[\"Fare\"].plot(kind=\"box\")\n",
    "data_median=data.groupby(\"Pclass\").get_group(3)[\"Fare\"].median()\n",
    "data_median"
   ]
  },
  {
   "cell_type": "code",
   "execution_count": 17,
   "id": "2171f559",
   "metadata": {},
   "outputs": [],
   "source": [
    "data[\"Fare\"].fillna(data_median,inplace=True)"
   ]
  },
  {
   "cell_type": "code",
   "execution_count": 18,
   "id": "666d1ee7",
   "metadata": {},
   "outputs": [
    {
     "name": "stdout",
     "output_type": "stream",
     "text": [
      "check the missing values repeat\n"
     ]
    },
    {
     "data": {
      "text/plain": [
       "0"
      ]
     },
     "execution_count": 18,
     "metadata": {},
     "output_type": "execute_result"
    }
   ],
   "source": [
    "print(\"check the missing values repeat\")\n",
    "data[\"Fare\"].isnull().sum()"
   ]
  },
  {
   "cell_type": "code",
   "execution_count": 19,
   "id": "c338883e",
   "metadata": {},
   "outputs": [
    {
     "name": "stdout",
     "output_type": "stream",
     "text": [
      "The dataset given the columns Age is 20% null values and 80% data required so no drop fill the null values\n"
     ]
    },
    {
     "data": {
      "text/plain": [
       "20.574162679425836"
      ]
     },
     "execution_count": 19,
     "metadata": {},
     "output_type": "execute_result"
    }
   ],
   "source": [
    "print(\"The dataset given the columns Age is 20% null values and 80% data required so no drop fill the null values\")\n",
    "data[\"Age\"].isnull().sum()/len(data[\"Age\"])*100"
   ]
  },
  {
   "cell_type": "code",
   "execution_count": 20,
   "id": "219d6d61",
   "metadata": {},
   "outputs": [
    {
     "name": "stdout",
     "output_type": "stream",
     "text": [
      "The Age columns given values minimun outlier\n"
     ]
    },
    {
     "data": {
      "text/plain": [
       "<AxesSubplot:>"
      ]
     },
     "execution_count": 20,
     "metadata": {},
     "output_type": "execute_result"
    },
    {
     "data": {
      "image/png": "[encoded data removed]",
      "text/plain": [
       "<Figure size 432x288 with 1 Axes>"
      ]
     },
     "metadata": {
      "needs_background": "light"
     },
     "output_type": "display_data"
    }
   ],
   "source": [
    "print(\"The Age columns given values minimun outlier\")\n",
    "data[\"Age\"].plot(kind=\"box\")"
   ]
  },
  {
   "cell_type": "code",
   "execution_count": 21,
   "id": "0dd89ff1",
   "metadata": {},
   "outputs": [
    {
     "name": "stdout",
     "output_type": "stream",
     "text": [
      "The Age columns is normalited distributed so standard normal distribution follow 67-68% data\n",
      "       lie between the mean - standard derivation and the mean + standard derivation\n"
     ]
    },
    {
     "name": "stderr",
     "output_type": "stream",
     "text": [
      "/Users/ahsan/opt/anaconda3/lib/python3.9/site-packages/seaborn/distributions.py:2619: FutureWarning: `distplot` is a deprecated function and will be removed in a future version. Please adapt your code to use either `displot` (a figure-level function with similar flexibility) or `histplot` (an axes-level function for histograms).\n",
      "  warnings.warn(msg, FutureWarning)\n"
     ]
    },
    {
     "data": {
      "image/png": "[encoded data removed]",
      "text/plain": [
       "<Figure size 432x288 with 1 Axes>"
      ]
     },
     "metadata": {
      "needs_background": "light"
     },
     "output_type": "display_data"
    }
   ],
   "source": [
    "print(\"\"\"The Age columns is normalited distributed so standard normal distribution follow 67-68% data\n",
    "       lie between the mean - standard derivation and the mean + standard derivation\"\"\")\n",
    "sns.distplot(data[\"Age\"])\n",
    "plt.show()"
   ]
  },
  {
   "cell_type": "code",
   "execution_count": 22,
   "id": "ad9b4fb9",
   "metadata": {},
   "outputs": [
    {
     "name": "stdout",
     "output_type": "stream",
     "text": [
      "The 86 random number generate given the age colums between  the mean - standard derivation and \n",
      "      the mean + standard derivation\n"
     ]
    },
    {
     "data": {
      "text/plain": [
       "array([17, 19, 20, 20, 41, 18, 26, 27, 23, 43, 25, 23, 40, 32, 35, 35, 30,\n",
       "       37, 39, 40, 29, 21, 17, 21, 35, 20, 23, 33, 28, 38, 42, 21, 28, 28,\n",
       "       19, 18, 22, 32, 22, 40, 27, 24, 40, 16, 33, 37, 30, 22, 32, 31, 39,\n",
       "       22, 33, 33, 29, 24, 33, 35, 33, 21, 23, 39, 33, 30, 37, 24, 34, 40,\n",
       "       41, 27, 25, 17, 22, 19, 36, 38, 28, 21, 24, 20, 39, 20, 20, 34, 22,\n",
       "       41])"
      ]
     },
     "execution_count": 22,
     "metadata": {},
     "output_type": "execute_result"
    }
   ],
   "source": [
    "print(\"\"\"The 86 random number generate given the age colums between  the mean - standard derivation and \n",
    "      the mean + standard derivation\"\"\")\n",
    "data_random=np.random.randint(data[\"Age\"].mean()-data[\"Age\"].std(),data[\"Age\"].mean()+data[\"Age\"].std(),86)\n",
    "data_random"
   ]
  },
  {
   "cell_type": "code",
   "execution_count": 23,
   "id": "b563198d",
   "metadata": {},
   "outputs": [
    {
     "name": "stdout",
     "output_type": "stream",
     "text": [
      "Fill the null values the given columns Age\n"
     ]
    },
    {
     "name": "stderr",
     "output_type": "stream",
     "text": [
      "/var/folders/10/bhjzcp3551b5st2q9rth561h0000gn/T/ipykernel_3163/579225690.py:2: SettingWithCopyWarning: \n",
      "A value is trying to be set on a copy of a slice from a DataFrame\n",
      "\n",
      "See the caveats in the documentation: https://pandas.pydata.org/pandas-docs/stable/user_guide/indexing.html#returning-a-view-versus-a-copy\n",
      "  data[\"Age\"][data[\"Age\"].isnull()]=data_random\n"
     ]
    }
   ],
   "source": [
    "print(\"Fill the null values the given columns Age\")\n",
    "data[\"Age\"][data[\"Age\"].isnull()]=data_random"
   ]
  },
  {
   "cell_type": "code",
   "execution_count": 24,
   "id": "c0002d65",
   "metadata": {},
   "outputs": [
    {
     "name": "stdout",
     "output_type": "stream",
     "text": [
      "check the missing values repeat\n"
     ]
    },
    {
     "data": {
      "text/plain": [
       "0"
      ]
     },
     "execution_count": 24,
     "metadata": {},
     "output_type": "execute_result"
    }
   ],
   "source": [
    "print(\"check the missing values repeat\")\n",
    "data[\"Age\"].isnull().sum()"
   ]
  },
  {
   "cell_type": "code",
   "execution_count": 25,
   "id": "d02598f9",
   "metadata": {},
   "outputs": [
    {
     "data": {
      "text/plain": [
       "<AxesSubplot:>"
      ]
     },
     "execution_count": 25,
     "metadata": {},
     "output_type": "execute_result"
    },
    {
     "data": {
      "image/png": "[encoded data removed]",
      "text/plain": [
       "<Figure size 432x288 with 2 Axes>"
      ]
     },
     "metadata": {
      "needs_background": "light"
     },
     "output_type": "display_data"
    }
   ],
   "source": [
    "sns.heatmap(data.isnull())"
   ]
  },
  {
   "cell_type": "code",
   "execution_count": 26,
   "id": "4318f8df",
   "metadata": {},
   "outputs": [
    {
     "name": "stdout",
     "output_type": "stream",
     "text": [
      "The Survived is relation the required columns given the dataset check one by one so help \n",
      "         the model and predict the Survived or not\n"
     ]
    },
    {
     "data": {
      "text/html": [
       "<div>\n",
       "<style scoped>\n",
       "    .dataframe tbody tr th:only-of-type {\n",
       "        vertical-align: middle;\n",
       "    }\n",
       "\n",
       "    .dataframe tbody tr th {\n",
       "        vertical-align: top;\n",
       "    }\n",
       "\n",
       "    .dataframe thead th {\n",
       "        text-align: right;\n",
       "    }\n",
       "</style>\n",
       "<table border=\"1\" class=\"dataframe\">\n",
       "  <thead>\n",
       "    <tr style=\"text-align: right;\">\n",
       "      <th></th>\n",
       "      <th>PassengerId</th>\n",
       "      <th>Survived</th>\n",
       "      <th>Pclass</th>\n",
       "      <th>Age</th>\n",
       "      <th>SibSp</th>\n",
       "      <th>Parch</th>\n",
       "      <th>Fare</th>\n",
       "    </tr>\n",
       "  </thead>\n",
       "  <tbody>\n",
       "    <tr>\n",
       "      <th>PassengerId</th>\n",
       "      <td>1.000000</td>\n",
       "      <td>-0.023245</td>\n",
       "      <td>-0.026751</td>\n",
       "      <td>-0.024813</td>\n",
       "      <td>0.003818</td>\n",
       "      <td>0.043080</td>\n",
       "      <td>0.008764</td>\n",
       "    </tr>\n",
       "    <tr>\n",
       "      <th>Survived</th>\n",
       "      <td>-0.023245</td>\n",
       "      <td>1.000000</td>\n",
       "      <td>-0.108615</td>\n",
       "      <td>-0.006882</td>\n",
       "      <td>0.099943</td>\n",
       "      <td>0.159120</td>\n",
       "      <td>0.192225</td>\n",
       "    </tr>\n",
       "    <tr>\n",
       "      <th>Pclass</th>\n",
       "      <td>-0.026751</td>\n",
       "      <td>-0.108615</td>\n",
       "      <td>1.000000</td>\n",
       "      <td>-0.437225</td>\n",
       "      <td>0.001087</td>\n",
       "      <td>0.018721</td>\n",
       "      <td>-0.577488</td>\n",
       "    </tr>\n",
       "    <tr>\n",
       "      <th>Age</th>\n",
       "      <td>-0.024813</td>\n",
       "      <td>-0.006882</td>\n",
       "      <td>-0.437225</td>\n",
       "      <td>1.000000</td>\n",
       "      <td>-0.070445</td>\n",
       "      <td>-0.057611</td>\n",
       "      <td>0.317493</td>\n",
       "    </tr>\n",
       "    <tr>\n",
       "      <th>SibSp</th>\n",
       "      <td>0.003818</td>\n",
       "      <td>0.099943</td>\n",
       "      <td>0.001087</td>\n",
       "      <td>-0.070445</td>\n",
       "      <td>1.000000</td>\n",
       "      <td>0.306895</td>\n",
       "      <td>0.172031</td>\n",
       "    </tr>\n",
       "    <tr>\n",
       "      <th>Parch</th>\n",
       "      <td>0.043080</td>\n",
       "      <td>0.159120</td>\n",
       "      <td>0.018721</td>\n",
       "      <td>-0.057611</td>\n",
       "      <td>0.306895</td>\n",
       "      <td>1.000000</td>\n",
       "      <td>0.230409</td>\n",
       "    </tr>\n",
       "    <tr>\n",
       "      <th>Fare</th>\n",
       "      <td>0.008764</td>\n",
       "      <td>0.192225</td>\n",
       "      <td>-0.577488</td>\n",
       "      <td>0.317493</td>\n",
       "      <td>0.172031</td>\n",
       "      <td>0.230409</td>\n",
       "      <td>1.000000</td>\n",
       "    </tr>\n",
       "  </tbody>\n",
       "</table>\n",
       "</div>"
      ],
      "text/plain": [
       "             PassengerId  Survived    Pclass       Age     SibSp     Parch  \\\n",
       "PassengerId     1.000000 -0.023245 -0.026751 -0.024813  0.003818  0.043080   \n",
       "Survived       -0.023245  1.000000 -0.108615 -0.006882  0.099943  0.159120   \n",
       "Pclass         -0.026751 -0.108615  1.000000 -0.437225  0.001087  0.018721   \n",
       "Age            -0.024813 -0.006882 -0.437225  1.000000 -0.070445 -0.057611   \n",
       "SibSp           0.003818  0.099943  0.001087 -0.070445  1.000000  0.306895   \n",
       "Parch           0.043080  0.159120  0.018721 -0.057611  0.306895  1.000000   \n",
       "Fare            0.008764  0.192225 -0.577488  0.317493  0.172031  0.230409   \n",
       "\n",
       "                 Fare  \n",
       "PassengerId  0.008764  \n",
       "Survived     0.192225  \n",
       "Pclass      -0.577488  \n",
       "Age          0.317493  \n",
       "SibSp        0.172031  \n",
       "Parch        0.230409  \n",
       "Fare         1.000000  "
      ]
     },
     "execution_count": 26,
     "metadata": {},
     "output_type": "execute_result"
    }
   ],
   "source": [
    "print(\"\"\"The Survived is relation the required columns given the dataset check one by one so help \n",
    "         the model and predict the Survived or not\"\"\")\n",
    "data.corr()"
   ]
  },
  {
   "cell_type": "code",
   "execution_count": 27,
   "id": "80d4b61e",
   "metadata": {},
   "outputs": [
    {
     "name": "stdout",
     "output_type": "stream",
     "text": [
      "The given columns Survived is week corr relation with PassengerId no effect the Survived so \n",
      "      the drop the PassengerId columns\n"
     ]
    }
   ],
   "source": [
    "print(\"\"\"The given columns Survived is week corr relation with PassengerId no effect the Survived so \n",
    "      the drop the PassengerId columns\"\"\")\n",
    "data.drop([\"PassengerId\"],axis=1,inplace=True)"
   ]
  },
  {
   "cell_type": "code",
   "execution_count": 28,
   "id": "0ccce806",
   "metadata": {},
   "outputs": [
    {
     "name": "stdout",
     "output_type": "stream",
     "text": [
      "The Survived columns is relation to pclass columns -0.1 so check the effect survived columns among pclass\n",
      "Pclass  Survived\n",
      "1       0            57\n",
      "        1            50\n",
      "2       0            63\n",
      "        1            30\n",
      "3       0           146\n",
      "        1            72\n",
      "Name: Survived, dtype: int64\n",
      "The survived people the given % is\n",
      "Pclass\n",
      "1    46.728972\n",
      "2    32.258065\n",
      "3    33.027523\n",
      "Name: Survived, dtype: float64\n"
     ]
    },
    {
     "data": {
      "image/png": "[encoded data removed]",
      "text/plain": [
       "<Figure size 432x288 with 1 Axes>"
      ]
     },
     "metadata": {
      "needs_background": "light"
     },
     "output_type": "display_data"
    }
   ],
   "source": [
    "print(\"The Survived columns is relation to pclass columns -0.1 so check the effect survived columns among pclass\")\n",
    "print(data.groupby(\"Pclass\")[\"Survived\"].value_counts())\n",
    "print(\"The survived people the given % is\")\n",
    "print(data.groupby(\"Pclass\")[\"Survived\"].mean()*100)\n",
    "data.groupby(\"Pclass\")[\"Survived\"].value_counts().plot(kind=\"bar\")\n",
    "plt.show()"
   ]
  },
  {
   "cell_type": "code",
   "execution_count": 29,
   "id": "938c0b55",
   "metadata": {},
   "outputs": [
    {
     "data": {
      "image/png": "[encoded data removed]",
      "text/plain": [
       "<Figure size 432x288 with 1 Axes>"
      ]
     },
     "metadata": {},
     "output_type": "display_data"
    }
   ],
   "source": [
    "data.groupby(\"Pclass\")[\"Survived\"].value_counts().plot(kind=\"pie\")\n",
    "plt.show()"
   ]
  },
  {
   "cell_type": "code",
   "execution_count": 30,
   "id": "ab4e5740",
   "metadata": {},
   "outputs": [
    {
     "name": "stdout",
     "output_type": "stream",
     "text": [
      "The given columns Survived is no relation with Name no effect the Survived so \n",
      "      the drop the Name columns\n"
     ]
    }
   ],
   "source": [
    "print(\"\"\"The given columns Survived is no relation with Name no effect the Survived so \n",
    "      the drop the Name columns\"\"\")\n",
    "data.drop([\"Name\"],axis=1,inplace=True)"
   ]
  },
  {
   "cell_type": "code",
   "execution_count": 31,
   "id": "fdb56768",
   "metadata": {},
   "outputs": [
    {
     "name": "stdout",
     "output_type": "stream",
     "text": [
      "The Survived columns is relation to Sex columns so check the effect survived columns among pclass\n",
      "Sex     Survived\n",
      "female  1           152\n",
      "male    0           266\n",
      "Name: Survived, dtype: int64\n",
      "The survived people the given % is\n",
      "Sex\n",
      "female    100.0\n",
      "male        0.0\n",
      "Name: Survived, dtype: float64\n"
     ]
    },
    {
     "data": {
      "image/png": "[encoded data removed]",
      "text/plain": [
       "<Figure size 432x288 with 1 Axes>"
      ]
     },
     "metadata": {
      "needs_background": "light"
     },
     "output_type": "display_data"
    }
   ],
   "source": [
    "print(\"The Survived columns is relation to Sex columns so check the effect survived columns among pclass\")\n",
    "print(data.groupby(\"Sex\")[\"Survived\"].value_counts())\n",
    "print(\"The survived people the given % is\")\n",
    "print(data.groupby(\"Sex\")[\"Survived\"].mean()*100)\n",
    "data.groupby(\"Sex\")[\"Survived\"].value_counts().plot(kind=\"bar\")\n",
    "plt.show()"
   ]
  },
  {
   "cell_type": "code",
   "execution_count": 32,
   "id": "e50ff798",
   "metadata": {},
   "outputs": [
    {
     "data": {
      "image/png": "[encoded data removed]",
      "text/plain": [
       "<Figure size 432x288 with 1 Axes>"
      ]
     },
     "metadata": {},
     "output_type": "display_data"
    }
   ],
   "source": [
    "data.groupby(\"Sex\")[\"Survived\"].value_counts().plot(kind=\"pie\")\n",
    "plt.show()"
   ]
  },
  {
   "cell_type": "code",
   "execution_count": 33,
   "id": "a069b261",
   "metadata": {},
   "outputs": [
    {
     "name": "stdout",
     "output_type": "stream",
     "text": [
      "The Survived columns is relation to Age columns so check the effect survived columns among pclass.\n",
      "Survived\n",
      "0    AxesSubplot(0.125,0.125;0.775x0.755)\n",
      "1    AxesSubplot(0.125,0.125;0.775x0.755)\n",
      "dtype: object\n",
      "The first graph show not survived or 2nd graph show survived.\n"
     ]
    },
    {
     "data": {
      "image/png": "[encoded data removed]",
      "text/plain": [
       "<Figure size 432x288 with 1 Axes>"
      ]
     },
     "metadata": {
      "needs_background": "light"
     },
     "output_type": "display_data"
    },
    {
     "data": {
      "image/png": "[encoded data removed]",
      "text/plain": [
       "<Figure size 432x288 with 1 Axes>"
      ]
     },
     "metadata": {
      "needs_background": "light"
     },
     "output_type": "display_data"
    }
   ],
   "source": [
    "print(\"The Survived columns is relation to Age columns so check the effect survived columns among pclass.\")\n",
    "print(data.groupby(\"Survived\").plot(kind=\"hist\",y=\"Age\"))\n",
    "print(\"The first graph show not survived or 2nd graph show survived.\")"
   ]
  },
  {
   "cell_type": "code",
   "execution_count": 34,
   "id": "47bb0a6c",
   "metadata": {},
   "outputs": [
    {
     "name": "stderr",
     "output_type": "stream",
     "text": [
      "/Users/ahsan/opt/anaconda3/lib/python3.9/site-packages/seaborn/distributions.py:2619: FutureWarning: `distplot` is a deprecated function and will be removed in a future version. Please adapt your code to use either `displot` (a figure-level function with similar flexibility) or `histplot` (an axes-level function for histograms).\n",
      "  warnings.warn(msg, FutureWarning)\n",
      "/Users/ahsan/opt/anaconda3/lib/python3.9/site-packages/seaborn/distributions.py:2619: FutureWarning: `distplot` is a deprecated function and will be removed in a future version. Please adapt your code to use either `displot` (a figure-level function with similar flexibility) or `histplot` (an axes-level function for histograms).\n",
      "  warnings.warn(msg, FutureWarning)\n"
     ]
    },
    {
     "data": {
      "image/png": "[encoded data removed]",
      "text/plain": [
       "<Figure size 432x288 with 1 Axes>"
      ]
     },
     "metadata": {
      "needs_background": "light"
     },
     "output_type": "display_data"
    },
    {
     "name": "stdout",
     "output_type": "stream",
     "text": [
      "Conclusion:Minimum age are survived as compare to not survived and young age people are survived\n",
      "        as compare to not survived old age are survived or not survived\n"
     ]
    }
   ],
   "source": [
    "sns.distplot(data[\"Age\"][data[\"Survived\"]==0])\n",
    "sns.distplot(data[\"Age\"][data[\"Survived\"]==1])\n",
    "plt.show()\n",
    "print(\"\"\"Conclusion:Minimum age are survived as compare to not survived and young age people are survived\n",
    "        as compare to not survived old age are survived or not survived\"\"\")"
   ]
  },
  {
   "cell_type": "code",
   "execution_count": 35,
   "id": "7fc9c469",
   "metadata": {},
   "outputs": [
    {
     "name": "stdout",
     "output_type": "stream",
     "text": [
      "The Survived columns is relation to Sibsp columns so check the effect survived columns among pclass\n",
      "SibSp  Survived\n",
      "0      0           195\n",
      "       1            88\n",
      "1      0            56\n",
      "       1            54\n",
      "2      0             8\n",
      "       1             6\n",
      "3      0             3\n",
      "       1             1\n",
      "4      0             3\n",
      "       1             1\n",
      "5      1             1\n",
      "8      0             1\n",
      "       1             1\n",
      "Name: Survived, dtype: int64\n",
      "The survived people the given % is\n",
      "SibSp\n",
      "0     31.095406\n",
      "1     49.090909\n",
      "2     42.857143\n",
      "3     25.000000\n",
      "4     25.000000\n",
      "5    100.000000\n",
      "8     50.000000\n",
      "Name: Survived, dtype: float64\n"
     ]
    },
    {
     "data": {
      "image/png": "[encoded data removed]",
      "text/plain": [
       "<Figure size 432x288 with 1 Axes>"
      ]
     },
     "metadata": {
      "needs_background": "light"
     },
     "output_type": "display_data"
    }
   ],
   "source": [
    "print(\"The Survived columns is relation to Sibsp columns so check the effect survived columns among pclass\")\n",
    "print(data.groupby(\"SibSp\")[\"Survived\"].value_counts())\n",
    "print(\"The survived people the given % is\")\n",
    "print(data.groupby(\"SibSp\")[\"Survived\"].mean()*100)\n",
    "data.groupby(\"SibSp\")[\"Survived\"].value_counts().plot(kind=\"bar\")\n",
    "plt.show()"
   ]
  },
  {
   "cell_type": "code",
   "execution_count": 36,
   "id": "2d485f84",
   "metadata": {},
   "outputs": [
    {
     "name": "stdout",
     "output_type": "stream",
     "text": [
      "The Survived columns is relation to Parch columns so check the effect survived columns among pclass\n",
      "Parch  Survived\n",
      "0      0           225\n",
      "       1            99\n",
      "1      1            28\n",
      "       0            24\n",
      "2      1            20\n",
      "       0            13\n",
      "3      1             2\n",
      "       0             1\n",
      "4      1             2\n",
      "5      0             1\n",
      "6      0             1\n",
      "9      0             1\n",
      "       1             1\n",
      "Name: Survived, dtype: int64\n",
      "The survived people the given % is\n",
      "Parch\n",
      "0     30.555556\n",
      "1     53.846154\n",
      "2     60.606061\n",
      "3     66.666667\n",
      "4    100.000000\n",
      "5      0.000000\n",
      "6      0.000000\n",
      "9     50.000000\n",
      "Name: Survived, dtype: float64\n"
     ]
    },
    {
     "data": {
      "image/png": "[encoded data removed]",
      "text/plain": [
       "<Figure size 432x288 with 1 Axes>"
      ]
     },
     "metadata": {
      "needs_background": "light"
     },
     "output_type": "display_data"
    }
   ],
   "source": [
    "print(\"The Survived columns is relation to Parch columns so check the effect survived columns among pclass\")\n",
    "print(data.groupby(\"Parch\")[\"Survived\"].value_counts())\n",
    "print(\"The survived people the given % is\")\n",
    "print(data.groupby(\"Parch\")[\"Survived\"].mean()*100)\n",
    "data.groupby(\"Parch\")[\"Survived\"].value_counts().plot(kind=\"bar\")\n",
    "plt.show()"
   ]
  },
  {
   "cell_type": "code",
   "execution_count": 37,
   "id": "174fc523",
   "metadata": {},
   "outputs": [
    {
     "name": "stdout",
     "output_type": "stream",
     "text": [
      "The SibSp columns and Parch columns are relative person so new columns generate help of sibsp\n",
      "        and parch columns add \n"
     ]
    }
   ],
   "source": [
    "print(\"\"\"The SibSp columns and Parch columns are relative person so new columns generate help of sibsp\n",
    "        and parch columns add \"\"\")\n",
    "data[\"Relative\"]=data[\"SibSp\"]+data[\"Parch\"]"
   ]
  },
  {
   "cell_type": "code",
   "execution_count": 38,
   "id": "53e7bb96",
   "metadata": {},
   "outputs": [
    {
     "name": "stdout",
     "output_type": "stream",
     "text": [
      "The new columns relative with help of sibsp and parch columns no use two columns sibsp and parch so drop\n"
     ]
    }
   ],
   "source": [
    "print(\"The new columns relative with help of sibsp and parch columns no use two columns sibsp and parch so drop\")\n",
    "data.drop(columns=[\"SibSp\",\"Parch\"],axis=1,inplace=True)"
   ]
  },
  {
   "cell_type": "code",
   "execution_count": 39,
   "id": "24805bfe",
   "metadata": {},
   "outputs": [
    {
     "name": "stdout",
     "output_type": "stream",
     "text": [
      "The relative person survived % is\n"
     ]
    },
    {
     "data": {
      "text/plain": [
       "Relative\n",
       "0     26.877470\n",
       "1     48.648649\n",
       "2     52.631579\n",
       "3     71.428571\n",
       "4     28.571429\n",
       "5     66.666667\n",
       "6     25.000000\n",
       "7     50.000000\n",
       "10    50.000000\n",
       "Name: Survived, dtype: float64"
      ]
     },
     "execution_count": 39,
     "metadata": {},
     "output_type": "execute_result"
    }
   ],
   "source": [
    "print(\"The relative person survived % is\")\n",
    "data.groupby(\"Relative\")[\"Survived\"].mean()*100"
   ]
  },
  {
   "cell_type": "code",
   "execution_count": 40,
   "id": "0d085309",
   "metadata": {},
   "outputs": [
    {
     "name": "stdout",
     "output_type": "stream",
     "text": [
      "The see relative columns and category the family so new columns generate family\n"
     ]
    }
   ],
   "source": [
    "print(\"The see relative columns and category the family so new columns generate family\")\n",
    "def fan(num):\n",
    "    if num==0:\n",
    "        return \"single\"\n",
    "    elif num>0 and num<5:\n",
    "        return \"medium\"\n",
    "    else:\n",
    "        return \"large\""
   ]
  },
  {
   "cell_type": "code",
   "execution_count": 41,
   "id": "39eea9ff",
   "metadata": {},
   "outputs": [],
   "source": [
    "data[\"Family\"]=data[\"Relative\"].apply(fan)"
   ]
  },
  {
   "cell_type": "code",
   "execution_count": 42,
   "id": "06b12e4f",
   "metadata": {},
   "outputs": [
    {
     "name": "stdout",
     "output_type": "stream",
     "text": [
      "The new columns family with help of relative columns no use columns relative so drop\n"
     ]
    }
   ],
   "source": [
    "print(\"The new columns family with help of relative columns no use columns relative so drop\")\n",
    "data.drop(columns=[\"Relative\"],axis=1,inplace=True)"
   ]
  },
  {
   "cell_type": "code",
   "execution_count": 43,
   "id": "bad9add9",
   "metadata": {},
   "outputs": [
    {
     "name": "stdout",
     "output_type": "stream",
     "text": [
      "The given columns Survived is no relation with Ticket no effect the Survived so \n",
      "      the drop the Ticket columns\n"
     ]
    }
   ],
   "source": [
    "print(\"\"\"The given columns Survived is no relation with Ticket no effect the Survived so \n",
    "      the drop the Ticket columns\"\"\")\n",
    "data.drop([\"Ticket\"],axis=1,inplace=True)"
   ]
  },
  {
   "cell_type": "code",
   "execution_count": 47,
   "id": "7b28995b",
   "metadata": {},
   "outputs": [
    {
     "name": "stdout",
     "output_type": "stream",
     "text": [
      "The Survived columns is relation to Fare columns so check the effect survived columns among Fare.\n",
      "Survived\n",
      "0    AxesSubplot(0.125,0.125;0.775x0.755)\n",
      "1    AxesSubplot(0.125,0.125;0.775x0.755)\n",
      "dtype: object\n",
      "The first graph show not survived or 2nd graph show survived.\n"
     ]
    },
    {
     "data": {
      "image/png": "[encoded data removed]",
      "text/plain": [
       "<Figure size 432x288 with 1 Axes>"
      ]
     },
     "metadata": {
      "needs_background": "light"
     },
     "output_type": "display_data"
    },
    {
     "data": {
      "image/png": "[encoded data removed]",
      "text/plain": [
       "<Figure size 432x288 with 1 Axes>"
      ]
     },
     "metadata": {
      "needs_background": "light"
     },
     "output_type": "display_data"
    }
   ],
   "source": [
    "print(\"The Survived columns is relation to Fare columns so check the effect survived columns among Fare.\")\n",
    "print(data.groupby(\"Survived\").plot(kind=\"hist\",y=\"Fare\"))\n",
    "print(\"The first graph show not survived or 2nd graph show survived.\")"
   ]
  },
  {
   "cell_type": "code",
   "execution_count": 49,
   "id": "e29b7c36",
   "metadata": {},
   "outputs": [
    {
     "name": "stderr",
     "output_type": "stream",
     "text": [
      "/Users/ahsan/opt/anaconda3/lib/python3.9/site-packages/seaborn/distributions.py:2619: FutureWarning: `distplot` is a deprecated function and will be removed in a future version. Please adapt your code to use either `displot` (a figure-level function with similar flexibility) or `histplot` (an axes-level function for histograms).\n",
      "  warnings.warn(msg, FutureWarning)\n",
      "/Users/ahsan/opt/anaconda3/lib/python3.9/site-packages/seaborn/distributions.py:2619: FutureWarning: `distplot` is a deprecated function and will be removed in a future version. Please adapt your code to use either `displot` (a figure-level function with similar flexibility) or `histplot` (an axes-level function for histograms).\n",
      "  warnings.warn(msg, FutureWarning)\n"
     ]
    },
    {
     "data": {
      "image/png": "[encoded data removed]",
      "text/plain": [
       "<Figure size 432x288 with 1 Axes>"
      ]
     },
     "metadata": {
      "needs_background": "light"
     },
     "output_type": "display_data"
    }
   ],
   "source": [
    "sns.distplot(data[\"Fare\"][data[\"Survived\"]==0])\n",
    "sns.distplot(data[\"Fare\"][data[\"Survived\"]==1])\n",
    "plt.show()"
   ]
  },
  {
   "cell_type": "code",
   "execution_count": 51,
   "id": "70c19d2c",
   "metadata": {},
   "outputs": [
    {
     "name": "stdout",
     "output_type": "stream",
     "text": [
      "These columns pclass,sex,embarked,family are category or categorical values machine learnin model\n",
      "        not except so change the categorical value to numeric so easy learn machine learning model help \n",
      "        the pandas libraray function get_dummies\n"
     ]
    }
   ],
   "source": [
    "print(\"\"\"These columns pclass,sex,embarked,family are category or categorical values machine learnin model\n",
    "        not except so change the categorical value to numeric so easy learn machine learning model help \n",
    "        the pandas libraray function get_dummies\"\"\")\n",
    "data_get=pd.get_dummies(data, columns=[\"Pclass\",\"Sex\",\"Embarked\",\"Family\"],drop_first=True)"
   ]
  },
  {
   "cell_type": "code",
   "execution_count": 55,
   "id": "31d974c0",
   "metadata": {},
   "outputs": [
    {
     "data": {
      "text/html": [
       "<div>\n",
       "<style scoped>\n",
       "    .dataframe tbody tr th:only-of-type {\n",
       "        vertical-align: middle;\n",
       "    }\n",
       "\n",
       "    .dataframe tbody tr th {\n",
       "        vertical-align: top;\n",
       "    }\n",
       "\n",
       "    .dataframe thead th {\n",
       "        text-align: right;\n",
       "    }\n",
       "</style>\n",
       "<table border=\"1\" class=\"dataframe\">\n",
       "  <thead>\n",
       "    <tr style=\"text-align: right;\">\n",
       "      <th></th>\n",
       "      <th>Survived</th>\n",
       "      <th>Age</th>\n",
       "      <th>Fare</th>\n",
       "      <th>Pclass_2</th>\n",
       "      <th>Pclass_3</th>\n",
       "      <th>Sex_male</th>\n",
       "      <th>Embarked_Q</th>\n",
       "      <th>Embarked_S</th>\n",
       "      <th>Family_medium</th>\n",
       "      <th>Family_single</th>\n",
       "    </tr>\n",
       "  </thead>\n",
       "  <tbody>\n",
       "    <tr>\n",
       "      <th>0</th>\n",
       "      <td>0</td>\n",
       "      <td>34.5</td>\n",
       "      <td>7.8292</td>\n",
       "      <td>0</td>\n",
       "      <td>1</td>\n",
       "      <td>1</td>\n",
       "      <td>1</td>\n",
       "      <td>0</td>\n",
       "      <td>0</td>\n",
       "      <td>1</td>\n",
       "    </tr>\n",
       "    <tr>\n",
       "      <th>1</th>\n",
       "      <td>1</td>\n",
       "      <td>47.0</td>\n",
       "      <td>7.0000</td>\n",
       "      <td>0</td>\n",
       "      <td>1</td>\n",
       "      <td>0</td>\n",
       "      <td>0</td>\n",
       "      <td>1</td>\n",
       "      <td>1</td>\n",
       "      <td>0</td>\n",
       "    </tr>\n",
       "    <tr>\n",
       "      <th>2</th>\n",
       "      <td>0</td>\n",
       "      <td>62.0</td>\n",
       "      <td>9.6875</td>\n",
       "      <td>1</td>\n",
       "      <td>0</td>\n",
       "      <td>1</td>\n",
       "      <td>1</td>\n",
       "      <td>0</td>\n",
       "      <td>0</td>\n",
       "      <td>1</td>\n",
       "    </tr>\n",
       "    <tr>\n",
       "      <th>3</th>\n",
       "      <td>0</td>\n",
       "      <td>27.0</td>\n",
       "      <td>8.6625</td>\n",
       "      <td>0</td>\n",
       "      <td>1</td>\n",
       "      <td>1</td>\n",
       "      <td>0</td>\n",
       "      <td>1</td>\n",
       "      <td>0</td>\n",
       "      <td>1</td>\n",
       "    </tr>\n",
       "    <tr>\n",
       "      <th>4</th>\n",
       "      <td>1</td>\n",
       "      <td>22.0</td>\n",
       "      <td>12.2875</td>\n",
       "      <td>0</td>\n",
       "      <td>1</td>\n",
       "      <td>0</td>\n",
       "      <td>0</td>\n",
       "      <td>1</td>\n",
       "      <td>1</td>\n",
       "      <td>0</td>\n",
       "    </tr>\n",
       "  </tbody>\n",
       "</table>\n",
       "</div>"
      ],
      "text/plain": [
       "   Survived   Age     Fare  Pclass_2  Pclass_3  Sex_male  Embarked_Q  \\\n",
       "0         0  34.5   7.8292         0         1         1           1   \n",
       "1         1  47.0   7.0000         0         1         0           0   \n",
       "2         0  62.0   9.6875         1         0         1           1   \n",
       "3         0  27.0   8.6625         0         1         1           0   \n",
       "4         1  22.0  12.2875         0         1         0           0   \n",
       "\n",
       "   Embarked_S  Family_medium  Family_single  \n",
       "0           0              0              1  \n",
       "1           1              1              0  \n",
       "2           0              0              1  \n",
       "3           1              0              1  \n",
       "4           1              1              0  "
      ]
     },
     "execution_count": 55,
     "metadata": {},
     "output_type": "execute_result"
    }
   ],
   "source": [
    "data_get.head()"
   ]
  },
  {
   "cell_type": "markdown",
   "id": "9b2835d3",
   "metadata": {},
   "source": [
    "# Catagorized"
   ]
  },
  {
   "cell_type": "code",
   "execution_count": 58,
   "id": "6b2b0de1",
   "metadata": {},
   "outputs": [],
   "source": [
    "x=data_get.iloc[:,1:].values\n",
    "y=data_get.iloc[:,0].values"
   ]
  },
  {
   "cell_type": "markdown",
   "id": "910d596a",
   "metadata": {},
   "source": [
    "# Split the data"
   ]
  },
  {
   "cell_type": "code",
   "execution_count": 59,
   "id": "292ab84c",
   "metadata": {},
   "outputs": [],
   "source": [
    "from sklearn.model_selection import train_test_split\n",
    "x_train,x_test,y_train,y_test=train_test_split(x,y,test_size=0.2)"
   ]
  },
  {
   "cell_type": "markdown",
   "id": "3ffdf7dc",
   "metadata": {},
   "source": [
    "# create a model"
   ]
  },
  {
   "cell_type": "code",
   "execution_count": 61,
   "id": "337b8536",
   "metadata": {},
   "outputs": [],
   "source": [
    "from sklearn.tree import DecisionTreeClassifier\n",
    "Decision=DecisionTreeClassifier()   "
   ]
  },
  {
   "cell_type": "code",
   "execution_count": 62,
   "id": "1d574893",
   "metadata": {},
   "outputs": [
    {
     "data": {
      "text/plain": [
       "DecisionTreeClassifier()"
      ]
     },
     "execution_count": 62,
     "metadata": {},
     "output_type": "execute_result"
    }
   ],
   "source": [
    "Decision.fit(x_train,y_train)"
   ]
  },
  {
   "cell_type": "markdown",
   "id": "49c51856",
   "metadata": {},
   "source": [
    "# Predict"
   ]
  },
  {
   "cell_type": "code",
   "execution_count": 68,
   "id": "cbe2f405",
   "metadata": {},
   "outputs": [],
   "source": [
    "y_pred=Decision.predict(x_test)"
   ]
  },
  {
   "cell_type": "markdown",
   "id": "941f388f",
   "metadata": {},
   "source": [
    "# The Predicted and Actual Values"
   ]
  },
  {
   "cell_type": "code",
   "execution_count": 69,
   "id": "0aed2af4",
   "metadata": {},
   "outputs": [],
   "source": [
    "data_df=pd.DataFrame({\"Actual\":y_test,\"predict\":y_pred})"
   ]
  },
  {
   "cell_type": "code",
   "execution_count": 70,
   "id": "4665e541",
   "metadata": {},
   "outputs": [
    {
     "data": {
      "text/html": [
       "<div>\n",
       "<style scoped>\n",
       "    .dataframe tbody tr th:only-of-type {\n",
       "        vertical-align: middle;\n",
       "    }\n",
       "\n",
       "    .dataframe tbody tr th {\n",
       "        vertical-align: top;\n",
       "    }\n",
       "\n",
       "    .dataframe thead th {\n",
       "        text-align: right;\n",
       "    }\n",
       "</style>\n",
       "<table border=\"1\" class=\"dataframe\">\n",
       "  <thead>\n",
       "    <tr style=\"text-align: right;\">\n",
       "      <th></th>\n",
       "      <th>Actual</th>\n",
       "      <th>predict</th>\n",
       "    </tr>\n",
       "  </thead>\n",
       "  <tbody>\n",
       "    <tr>\n",
       "      <th>0</th>\n",
       "      <td>0</td>\n",
       "      <td>0</td>\n",
       "    </tr>\n",
       "    <tr>\n",
       "      <th>1</th>\n",
       "      <td>1</td>\n",
       "      <td>1</td>\n",
       "    </tr>\n",
       "    <tr>\n",
       "      <th>2</th>\n",
       "      <td>1</td>\n",
       "      <td>1</td>\n",
       "    </tr>\n",
       "    <tr>\n",
       "      <th>3</th>\n",
       "      <td>0</td>\n",
       "      <td>0</td>\n",
       "    </tr>\n",
       "    <tr>\n",
       "      <th>4</th>\n",
       "      <td>0</td>\n",
       "      <td>0</td>\n",
       "    </tr>\n",
       "    <tr>\n",
       "      <th>...</th>\n",
       "      <td>...</td>\n",
       "      <td>...</td>\n",
       "    </tr>\n",
       "    <tr>\n",
       "      <th>79</th>\n",
       "      <td>1</td>\n",
       "      <td>1</td>\n",
       "    </tr>\n",
       "    <tr>\n",
       "      <th>80</th>\n",
       "      <td>0</td>\n",
       "      <td>0</td>\n",
       "    </tr>\n",
       "    <tr>\n",
       "      <th>81</th>\n",
       "      <td>0</td>\n",
       "      <td>0</td>\n",
       "    </tr>\n",
       "    <tr>\n",
       "      <th>82</th>\n",
       "      <td>0</td>\n",
       "      <td>0</td>\n",
       "    </tr>\n",
       "    <tr>\n",
       "      <th>83</th>\n",
       "      <td>1</td>\n",
       "      <td>1</td>\n",
       "    </tr>\n",
       "  </tbody>\n",
       "</table>\n",
       "<p>84 rows × 2 columns</p>\n",
       "</div>"
      ],
      "text/plain": [
       "    Actual  predict\n",
       "0        0        0\n",
       "1        1        1\n",
       "2        1        1\n",
       "3        0        0\n",
       "4        0        0\n",
       "..     ...      ...\n",
       "79       1        1\n",
       "80       0        0\n",
       "81       0        0\n",
       "82       0        0\n",
       "83       1        1\n",
       "\n",
       "[84 rows x 2 columns]"
      ]
     },
     "execution_count": 70,
     "metadata": {},
     "output_type": "execute_result"
    }
   ],
   "source": [
    "data_df"
   ]
  },
  {
   "cell_type": "markdown",
   "id": "ed44300b",
   "metadata": {},
   "source": [
    "# Model has 100% accuracy"
   ]
  },
  {
   "cell_type": "code",
   "execution_count": 75,
   "id": "ccbf1004",
   "metadata": {},
   "outputs": [
    {
     "name": "stdout",
     "output_type": "stream",
     "text": [
      "accuracy 100.0\n"
     ]
    }
   ],
   "source": [
    "from sklearn.metrics import accuracy_score\n",
    "print(\"accuracy\",accuracy_score(y_pred,y_test)*100)"
   ]
  },
  {
   "cell_type": "markdown",
   "id": "836b3b46",
   "metadata": {},
   "source": [
    "# 📝 **Title**: Titanic - Data Analysis and Prediction\n",
    "\n",
    "### 📂 **Purpose**:\n",
    "\n",
    "The notebook appears to focus on analyzing Titanic passenger data and preparing it for machine learning modeling, likely to predict survival outcomes.\n",
    "\n",
    "---\n",
    "\n",
    "### 📊 **Structure Overview**:\n",
    "\n",
    "1. **Data Loading & Libraries**:\n",
    "\n",
    "   * Uses `pandas`, `numpy`, `matplotlib.pyplot`, and `seaborn`.\n",
    "   * Loads a dataset from `tested.csv`.\n",
    "\n",
    "2. **Data Preprocessing**:\n",
    "\n",
    "   * Multiple markdown explanations and code cells guide through data inspection and cleanup.\n",
    "   * Steps include:\n",
    "\n",
    "     * Checking for missing values.\n",
    "     * Handling missing data (e.g., dropping or imputing).\n",
    "     * Data transformation or encoding might be included later in the notebook.\n",
    "\n",
    "3. **Exploratory Data Analysis (EDA)**:\n",
    "\n",
    "   * Visualizations likely made using `seaborn` and `matplotlib`.\n",
    "   * Analyzes feature relationships such as survival rates by gender, class, etc.\n",
    "\n",
    "4. **Modeling (if present)**:\n",
    "\n",
    "   * Not confirmed yet — will check for machine learning model cells (e.g., Logistic Regression, Decision Tree).\n",
    "\n",
    "---\n",
    "\n",
    "### 🔍 Observations:\n",
    "\n",
    "* **Good Use of Markdown**: Explanations are provided before key code blocks.\n",
    "* **Spelling Errors**: Some markdown contains typos (e.g., *\"funsion\"* instead of *\"function\"*).\n",
    "* **Dataset Assumption**: Uses a file `tested.csv`, which was not included in your upload. This could prevent full reproducibility.\n",
    "\n",
    "---\n",
    "\n",
    "### ✅ Recommendations:\n",
    "\n",
    "1. **Fix Typos in Markdown** for clarity and polish.\n",
    "2. **Include the Dataset or Use Kaggle Link** if sharing.\n",
    "3. **Add Conclusions** summarizing findings and model performance (if applicable).\n",
    "4. **Add Model Evaluation** if ML is involved (accuracy, confusion matrix, etc.).\n",
    "\n",
    "---\n",
    "                    \n",
    "                                  *** End ***"
   ]
  }
 ],
 "metadata": {
  "kernelspec": {
   "display_name": "Python 3 (ipykernel)",
   "language": "python",
   "name": "python3"
  },
  "language_info": {
   "codemirror_mode": {
    "name": "ipython",
    "version": 3
   },
   "file_extension": ".py",
   "mimetype": "text/x-python",
   "name": "python",
   "nbconvert_exporter": "python",
   "pygments_lexer": "ipython3",
   "version": "3.9.12"
  }
 },
 "nbformat": 4,
 "nbformat_minor": 5
}
